{
 "cells": [
  {
   "cell_type": "code",
   "execution_count": 124,
   "id": "329d569f",
   "metadata": {},
   "outputs": [],
   "source": [
    "import requests\n",
    "from bs4 import BeautifulSoup\n",
    "import pandas as pd\n",
    "\n"
   ]
  },
  {
   "cell_type": "code",
   "execution_count": 93,
   "id": "df0f59e0",
   "metadata": {},
   "outputs": [],
   "source": [
    "class Review:\n",
    "    \n",
    "    def __init__(self, page_num):\n",
    "        self.page_num = page_num\n",
    "        self.url = f'https://onebite.app/reviews/dave?page={page_num}&minScore=0&maxScore=10'\n",
    "        self.page = requests.get(self.url)\n",
    "        self.soup = BeautifulSoup(self.page.text, 'html.parser')\n",
    "        self.review_divs = []\n",
    "        \n",
    "    def get_divs(self, page_num):\n",
    "        all_divs = self.soup.find_all('div')\n",
    "        for div in all_divs:\n",
    "            if 'feedItem' in f'{div.get(\"class\")}':\n",
    "                self.review_divs.append(div)\n",
    "        \n",
    "    def get_Title(self):\n",
    "        titles = []\n",
    "        for div in self.review_divs:\n",
    "            title = div.find('h2').getText()\n",
    "            titles.append(title)\n",
    "        \n",
    "        return titles\n",
    "    \n",
    "    def get_Rating(self):\n",
    "        ratings = []\n",
    "        for div in self.review_divs:\n",
    "            rating = div.find('p', {'class': 'jsx-407081529 rating__score'}).getText()\n",
    "            ratings.append(rating)\n",
    "            \n",
    "        return ratings\n",
    "        \n",
    "    def get_Location(self):\n",
    "        locations = []\n",
    "        for div in self.review_divs:\n",
    "            location = div.find('p', {'class': 'jsx-2655995184 reviewCard__location'}).getText()\n",
    "            locations.append(location)\n",
    "            \n",
    "        return locations"
   ]
  },
  {
   "cell_type": "code",
   "execution_count": 107,
   "id": "1796a95f",
   "metadata": {},
   "outputs": [],
   "source": [
    "page_one = Review(1)"
   ]
  },
  {
   "cell_type": "code",
   "execution_count": 108,
   "id": "91e33e73",
   "metadata": {},
   "outputs": [],
   "source": [
    "divs = page_one.get_divs(page_one.page_num)\n",
    "titles = page_one.get_Title()\n",
    "ratings = page_one.get_Rating()\n",
    "locations = page_one.get_Location()\n",
    "\n",
    "pizzaDict = {}\n",
    "\n",
    "for num in range(len(titles)):\n",
    "    title = titles[num]\n",
    "    rating = ratings[num]\n",
    "    location = locations[num]\n",
    "    \n",
    "    pizzaDict[title] = {'Rating': rating, 'Location': location}\n",
    "    "
   ]
  },
  {
   "cell_type": "code",
   "execution_count": 159,
   "id": "8bed7b02",
   "metadata": {},
   "outputs": [],
   "source": [
    "official_pizza = []\n",
    "\n",
    "for num in range(1,53):\n",
    "    reviews = Review(num)\n",
    "    get_divs = reviews.get_divs(reviews.page_num)\n",
    "    get_titles = reviews.get_Title()\n",
    "    get_ratings = reviews.get_Rating()\n",
    "    get_locations = reviews.get_Location()\n",
    "    \n",
    "    for nums in range(len(get_titles)):\n",
    "        location = get_locations[nums]\n",
    "        comma = location.index(',')\n",
    "        city = location[:comma]\n",
    "        state = location[comma + 2:]\n",
    "        if city == 'London':\n",
    "            state = 'UK'\n",
    "        if city == 'Griante' or city == 'Tremezzo' or city == 'Como' or city == 'Bellagio' or city == 'Milan' or city == 'Venezia':\n",
    "            state = 'Italy'\n",
    "        pizzareview = [get_titles[nums], get_ratings[nums], city, state]\n",
    "        official_pizza.append(pizzareview)"
   ]
  },
  {
   "cell_type": "code",
   "execution_count": 160,
   "id": "f3884b4f",
   "metadata": {},
   "outputs": [],
   "source": [
    "pizza_df =  pd.DataFrame({\"Restaurant Name\":[i[0] for i in official_pizza],\n",
    "                         \"Rating\":[i[1] for i in official_pizza],\n",
    "                            'City':[i[2] for i in official_pizza],\n",
    "                             'State': [i[3] for i in official_pizza]})"
   ]
  },
  {
   "cell_type": "code",
   "execution_count": 161,
   "id": "19058714",
   "metadata": {},
   "outputs": [],
   "source": [
    "pizza_df.to_excel('PizzaReviewTime3.xlsx')"
   ]
  },
  {
   "cell_type": "code",
   "execution_count": null,
   "id": "5242ebcf",
   "metadata": {},
   "outputs": [],
   "source": []
  }
 ],
 "metadata": {
  "kernelspec": {
   "display_name": "Python 3 (ipykernel)",
   "language": "python",
   "name": "python3"
  },
  "language_info": {
   "codemirror_mode": {
    "name": "ipython",
    "version": 3
   },
   "file_extension": ".py",
   "mimetype": "text/x-python",
   "name": "python",
   "nbconvert_exporter": "python",
   "pygments_lexer": "ipython3",
   "version": "3.11.3"
  }
 },
 "nbformat": 4,
 "nbformat_minor": 5
}
